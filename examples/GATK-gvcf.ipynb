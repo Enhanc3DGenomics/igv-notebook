{
 "cells": [
  {
   "cell_type": "code",
   "execution_count": null,
   "metadata": {
    "pycharm": {
     "name": "#%%\n"
    }
   },
   "outputs": [],
   "source": [
    "import igv_notebook\n",
    "\n",
    "igv_notebook.init()\n",
    "\n",
    "b = igv_notebook.Browser(\n",
    "    {\n",
    "        \"genome\": \"hg19\",\n",
    "        \"locus\": \"chr20:10,000,029-10,000,201\"\n",
    "    }\n",
    ")\n",
    "\n",
    "b.load_track(\n",
    "    {\n",
    "        \"name\": \"GATK gcvf\",\n",
    "        \"type\": \"variant\",\n",
    "        \"format\": \"vcf\",\n",
    "        \"url\": \"gs://gatk-tutorials/workshop_1908/2-germline/gvcfs/father.g.vcf.gz\",\n",
    "        \"indexURL\": \"gs://gatk-tutorials/workshop_1908/2-germline/gvcfs/father.g.vcf.gz.tbi\"\n",
    "    })\n"
   ]
  }
 ],
 "metadata": {
  "kernelspec": {
   "display_name": "Python 3",
   "language": "python",
   "name": "python3"
  },
  "language_info": {
   "codemirror_mode": {
    "name": "ipython",
    "version": 3
   },
   "file_extension": ".py",
   "mimetype": "text/x-python",
   "name": "python",
   "nbconvert_exporter": "python",
   "pygments_lexer": "ipython3",
   "version": "3.7.1"
  }
 },
 "nbformat": 4,
 "nbformat_minor": 2
}