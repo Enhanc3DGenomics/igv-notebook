{
 "cells": [
  {
   "cell_type": "markdown",
   "metadata": {
    "id": "G-1lpQTojgx8",
    "pycharm": {
     "name": "#%% md\n"
    }
   },
   "source": [
    "# Google Colab - custom reference example"
   ]
  },
  {
   "cell_type": "markdown",
   "source": [
    "### Install igv-notebook"
   ],
   "metadata": {
    "collapsed": false,
    "pycharm": {
     "name": "#%% md\n"
    }
   }
  },
  {
   "cell_type": "code",
   "execution_count": null,
   "metadata": {
    "id": "kw_pc6R6jgyA",
    "pycharm": {
     "name": "#%%\n"
    }
   },
   "outputs": [],
   "source": [
    "!pip install igv-notebook"
   ]
  },
  {
   "cell_type": "markdown",
   "source": [
    "**Download example files**"
   ],
   "metadata": {
    "id": "YhhaZkrhqnk8",
    "pycharm": {
     "name": "#%% md\n"
    }
   }
  },
  {
   "cell_type": "code",
   "source": [
    "!wget https://github.com/igvteam/igv-notebook/raw/main/examples/data/NC_045512v2.fa\n",
    "!wget https://github.com/igvteam/igv-notebook/raw/main/examples/data/NC_045512v2.fa.fai"
   ],
   "metadata": {
    "id": "t9ePu9oZkEAB",
    "pycharm": {
     "name": "#%%\n"
    }
   },
   "execution_count": null,
   "outputs": []
  },
  {
   "cell_type": "markdown",
   "source": [
    "**Load by file path (not use of \"path\" and \"indexPath\")**"
   ],
   "metadata": {
    "id": "GEbY_8Y2qtZK",
    "pycharm": {
     "name": "#%% md\n"
    }
   }
  },
  {
   "cell_type": "code",
   "execution_count": null,
   "metadata": {
    "pycharm": {
     "name": "#%%\n"
    },
    "tags": [],
    "id": "0bTMn-GYjgyD"
   },
   "outputs": [],
   "source": [
    "import igv_notebook\n",
    "\n",
    "igv_notebook.init()\n",
    "\n",
    "b = igv_notebook.Browser(\n",
    "    {\n",
    "        \"reference\": {\n",
    "            \"id\": \"NC_045523v3\",\n",
    "            \"name\": \"SARS-COV-2\",\n",
    "            \"fastaPath\": \"/content/NC_045512v2.fa\",\n",
    "            \"indexPath\": \"/content/NC_045512v2.fa.fai\"\n",
    "        },\n",
    "        \"locus\": \"NC_045512v2:6,684-6,722\"\n",
    "    })\n",
    "\n",
    "\n"
   ]
  }
 ],
 "metadata": {
  "kernelspec": {
   "display_name": "Python 3 (ipykernel)",
   "language": "python",
   "name": "python3"
  },
  "language_info": {
   "codemirror_mode": {
    "name": "ipython",
    "version": 3
   },
   "file_extension": ".py",
   "mimetype": "text/x-python",
   "name": "python",
   "nbconvert_exporter": "python",
   "pygments_lexer": "ipython3",
   "version": "3.9.1"
  },
  "colab": {
   "name": "BamFiles-Colab.ipynb",
   "provenance": []
  }
 },
 "nbformat": 4,
 "nbformat_minor": 0
}