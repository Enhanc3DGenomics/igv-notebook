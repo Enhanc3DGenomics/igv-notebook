{
 "cells": [
  {
   "cell_type": "markdown",
   "metadata": {},
   "source": [
    "# Google Colab notebook example"
   ]
  },
  {
   "cell_type": "markdown",
   "metadata": {
    "pycharm": {
     "name": "#%%\n"
    }
   },
   "source": [
    "### Install igv-notebook"
   ]
  },
  {
   "cell_type": "code",
   "execution_count": null,
   "metadata": {},
   "outputs": [],
   "source": [
    "pip install git+https://github.com/igvteam/igv-notebook.git"
   ]
  },
  {
   "cell_type": "markdown",
   "metadata": {
    "pycharm": {
     "name": "#%% md\n"
    },
    "tags": []
   },
   "source": [
    "### Load by Absolute URL  (all platforms)"
   ]
  },
  {
   "cell_type": "code",
   "execution_count": null,
   "metadata": {
    "pycharm": {
     "name": "#%%\n"
    }
   },
   "outputs": [],
   "source": [
    "import igv_notebook\n",
    "\n",
    "igv_notebook.init()\n",
    "\n",
    "b = igv_notebook.Browser(\n",
    "    {\n",
    "        \"genome\": \"hg19\",\n",
    "        \"locus\": \"chr22:24,376,166-24,376,456\"\n",
    "    }\n",
    ")\n",
    "\n",
    "\n",
    "b.load_track(\n",
    "    {\n",
    "        \"name\": \"BAM\",\n",
    "        \"url\": \"https://s3.amazonaws.com/igv.org.demo/gstt1_sample.bam\",\n",
    "        \"indexURL\": \"https://s3.amazonaws.com/igv.org.demo/gstt1_sample.bam.bai\",\n",
    "        \"format\": \"bam\",\n",
    "        \"type\": \"alignment\"\n",
    "    })\n",
    "\n",
    "\n",
    "b.zoom_in()\n",
    "\n"
   ]
  },
  {
   "cell_type": "markdown",
   "metadata": {
    "pycharm": {
     "name": "#%%\n"
    }
   },
   "source": [
    "### Load BAM file by file path  (Colab Notebook)\n",
    "\n",
    "_**NOTE:**_:  The ```path``` and ```indexPath``` are examples only, actual paths will depenend on location of the files\n",
    "in the Colab VM file tree, and can be obtained from the Colab file tree view."
   ]
  },
  {
   "cell_type": "code",
   "execution_count": null,
   "metadata": {
    "pycharm": {
     "name": "#%%\n"
    },
    "tags": []
   },
   "outputs": [],
   "source": [
    "import igv_notebook\n",
    "\n",
    "igv_notebook.init()\n",
    "\n",
    "b = igv_notebook.Browser(\n",
    "    {\n",
    "        \"genome\": \"hg19\",\n",
    "        \"locus\": \"chr22:24,376,166-24,376,456\"\n",
    "    }\n",
    ")\n",
    "\n",
    "\n",
    "b.load_track(\n",
    "    {\n",
    "        \"name\": \"Local BAM\",\n",
    "        \"path\": \"/content/igv-notebook/examples/data/gstt1_sample.bam\",\n",
    "        \"indexPath\": \"/content/igv-notebook/examples/data/gstt1_sample.bam.bai\",\n",
    "        \"format\": \"bam\",\n",
    "        \"type\": \"alignment\"\n",
    "    })\n",
    "\n",
    "\n",
    "b.zoom_in()\n",
    "\n"
   ]
  }
 ],
 "metadata": {
  "kernelspec": {
   "display_name": "Python 3 (ipykernel)",
   "language": "python",
   "name": "python3"
  },
  "language_info": {
   "codemirror_mode": {
    "name": "ipython",
    "version": 3
   },
   "file_extension": ".py",
   "mimetype": "text/x-python",
   "name": "python",
   "nbconvert_exporter": "python",
   "pygments_lexer": "ipython3",
   "version": "3.9.1"
  }
 },
 "nbformat": 4,
 "nbformat_minor": 4
}