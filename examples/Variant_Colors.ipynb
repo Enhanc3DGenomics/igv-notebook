{
 "cells": [
  {
   "cell_type": "markdown",
   "metadata": {
    "pycharm": {
     "name": "#%% md\n"
    }
   },
   "source": [
    "#  Example illustrating various coloring options for variant (VCF) tracks"
   ]
  },
  {
   "cell_type": "markdown",
   "source": [
    "### Install igv-notebook"
   ],
   "metadata": {
    "collapsed": false,
    "pycharm": {
     "name": "#%% md\n"
    }
   }
  },
  {
   "cell_type": "code",
   "execution_count": null,
   "metadata": {
    "pycharm": {
     "name": "#%%\n",
     "is_executing": true
    }
   },
   "outputs": [],
   "source": [
    "!pip install igv-notebook"
   ]
  },
  {
   "cell_type": "markdown",
   "metadata": {
    "pycharm": {
     "name": "#%% md\n"
    },
    "tags": []
   },
   "source": [
    "### Color by INFO field SVTYPE"
   ]
  },
  {
   "cell_type": "code",
   "execution_count": null,
   "outputs": [],
   "source": [
    "import igv_notebook\n",
    "\n",
    "igv_notebook.init()\n",
    "\n",
    "b = igv_notebook.Browser(\n",
    "    {\n",
    "        \"genome\": \"hg38\",\n",
    "        \"locus\": \"chr22\",\n",
    "        \"tracks\": [\n",
    "            {\n",
    "                \"url\": \"https://s3.amazonaws.com/igv.org.demo/nstd186.GRCh38.variant_call.vcf.gz\",\n",
    "                \"indexURL\": \"https://s3.amazonaws.com/igv.org.demo/nstd186.GRCh38.variant_call.vcf.gz.tbi\",\n",
    "                \"name\": \"Color by table, SVTYPE\",\n",
    "                \"visibilityWindow\": -1,\n",
    "                \"colorBy\": \"SVTYPE\",\n",
    "                \"colorTable\": {\n",
    "                    \"DEL\": \"#ff2101\",\n",
    "                    \"INS\": \"#001888\",\n",
    "                    \"DUP\": \"#028401\",\n",
    "                    \"INV\": \"#008688\",\n",
    "                    \"CNV\": \"#8931ff\",\n",
    "                    \"BND\": \"#891100\",\n",
    "                    \"*\": \"#002eff\"\n",
    "                }\n",
    "            }]\n",
    "    })\n",
    "\n"
   ],
   "metadata": {
    "collapsed": false,
    "pycharm": {
     "name": "#%%\n",
     "is_executing": true
    }
   }
  },
  {
   "cell_type": "markdown",
   "source": [
    "### Color by standard field \"ALT\"\n"
   ],
   "metadata": {
    "collapsed": false,
    "pycharm": {
     "name": "#%% md\n"
    }
   }
  },
  {
   "cell_type": "code",
   "execution_count": null,
   "outputs": [],
   "source": [
    "import igv_notebook\n",
    "\n",
    "igv_notebook.init()\n",
    "\n",
    "b = igv_notebook.Browser(\n",
    "    {\n",
    "        \"genome\": \"hg38\",\n",
    "        \"locus\": \"chr22\",\n",
    "        \"tracks\": [\n",
    "            {\n",
    "                \"url\": \"https://s3.amazonaws.com/igv.org.demo/nstd186.GRCh38.variant_call.vcf.gz\",\n",
    "                \"indexURL\": \"https://s3.amazonaws.com/igv.org.demo/nstd186.GRCh38.variant_call.vcf.gz.tbi\",\n",
    "                \"name\": \"Color by ALT\",\n",
    "                \"colorBy\": \"ALT\",\n",
    "                \"colorTable\": {\n",
    "                    \"<DEL>\": \"#ff2101\",\n",
    "                    \"<INS>\": \"#001888\",\n",
    "                    \"<DUP>\": \"#028401\",\n",
    "                    \"<INV>\": \"#008688\",\n",
    "                    \"<CNV>\": \"#8931ff\",\n",
    "                    \"<BND>\": \"#891100\",\n",
    "                    \"*\": \"#002eff\"\n",
    "                },\n",
    "                \"visibilityWindow\": -1\n",
    "            }]\n",
    "    })"
   ],
   "metadata": {
    "collapsed": false,
    "pycharm": {
     "name": "#%%\n",
     "is_executing": true
    }
   }
  }
 ],
 "metadata": {
  "kernelspec": {
   "display_name": "Python 3 (ipykernel)",
   "language": "python",
   "name": "python3"
  },
  "language_info": {
   "codemirror_mode": {
    "name": "ipython",
    "version": 3
   },
   "file_extension": ".py",
   "mimetype": "text/x-python",
   "name": "python",
   "nbconvert_exporter": "python",
   "pygments_lexer": "ipython3",
   "version": "3.9.1"
  }
 },
 "nbformat": 4,
 "nbformat_minor": 4
}