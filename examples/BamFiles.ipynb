{
 "cells": [
  {
   "cell_type": "code",
   "execution_count": 2,
   "metadata": {
    "pycharm": {
     "name": "#%%\n"
    }
   },
   "outputs": [
    {
     "data": {
      "text/html": [
       "<div id=\"jb_462657\"></div>"
      ],
      "text/plain": [
       "<IPython.core.display.HTML object>"
      ]
     },
     "metadata": {},
     "output_type": "display_data"
    },
    {
     "data": {
      "application/javascript": [
       "window.IGVMessageHandler.on({\"id\": \"jb_462657\", \"command\": \"createBrowser\", \"data\": {\"genome\": \"hg19\", \"locus\": \"chr22:24,376,166-24,376,456\", \"id\": \"jb_462657\"}})"
      ],
      "text/plain": [
       "<IPython.core.display.Javascript object>"
      ]
     },
     "metadata": {},
     "output_type": "display_data"
    },
    {
     "data": {
      "application/javascript": [
       "window.IGVMessageHandler.on({\"id\": \"jb_462657\", \"command\": \"loadLocalTrack\", \"data\": {\"name\": \"Local BAM\", \"url\": \"data/gstt1_sample.bam\", \"indexURL\": \"data/gstt1_sample.bam.bai\", \"format\": \"bam\", \"type\": \"alignment\"}})"
      ],
      "text/plain": [
       "<IPython.core.display.Javascript object>"
      ]
     },
     "metadata": {},
     "output_type": "display_data"
    },
    {
     "data": {
      "application/javascript": [
       "window.IGVMessageHandler.on({\"id\": \"jb_462657\", \"command\": \"zoomIn\"})"
      ],
      "text/plain": [
       "<IPython.core.display.Javascript object>"
      ]
     },
     "metadata": {},
     "output_type": "display_data"
    }
   ],
   "source": [
    "import igv_notebook\n",
    "\n",
    "#igv_notebook.init()\n",
    "\n",
    "b = igv_notebook.Browser(\n",
    "    {\n",
    "        \"genome\": \"hg19\",\n",
    "        \"locus\": \"chr22:24,376,166-24,376,456\"\n",
    "    }\n",
    ")\n",
    "\n",
    "\n",
    "b.load_track(\n",
    "    {\n",
    "        \"name\": \"Local BAM\",\n",
    "        \"url\": \"data/gstt1_sample.bam\",\n",
    "        \"indexURL\": \"data/gstt1_sample.bam.bai\",\n",
    "        \"format\": \"bam\",\n",
    "        \"type\": \"alignment\"\n",
    "    })\n",
    "\n",
    "\n",
    "b.zoom_in()\n",
    "\n",
    "\n"
   ]
  },
  {
   "cell_type": "code",
   "execution_count": 1,
   "metadata": {
    "pycharm": {
     "name": "#%%\n"
    }
   },
   "outputs": [
    {
     "data": {
      "application/javascript": [
       "\n",
       "    const link = document.createElement(\"script\")\n",
       "    link.src = \"http://localhost:63342/igv.js/dist/igv.js\"\n",
       "    document.getElementsByTagName(\"head\")[0].appendChild(link)\n",
       "    "
      ],
      "text/plain": [
       "<IPython.core.display.Javascript object>"
      ]
     },
     "metadata": {},
     "output_type": "display_data"
    },
    {
     "data": {
      "application/javascript": [
       "/**\n",
       " * Global handler for igv.js messages.  Messages have the form\n",
       " * {\n",
       " *     command  -- the command to execute\n",
       " *     id -- the id of the igv.js browser, if applicable\n",
       " *     data -- any data needed for the command\n",
       " * }\n",
       " */\n",
       "\n",
       "// Use a self-evaluating function to keep variables in this file scope, with the execption of the global handler\n",
       "\n",
       "(function () {\n",
       "\n",
       "    console.log(\"Installing IGVMessageHandler\")\n",
       "\n",
       "    class MessageHandler {\n",
       "\n",
       "        constructor() {\n",
       "            this.browserCache = new Map()\n",
       "            this.messageQueue = new Queue()\n",
       "        }\n",
       "\n",
       "        on(msg) {\n",
       "            this.messageQueue.enqueue(msg)\n",
       "            this.processQueue()\n",
       "        }\n",
       "\n",
       "        async processQueue() {\n",
       "            if (!this.processing) {\n",
       "                this.processing = true\n",
       "                while (!this.messageQueue.isEmpty()) {\n",
       "                    const msg = this.messageQueue.dequeue()\n",
       "                    const command = msg.command\n",
       "                    const browserID = msg.id\n",
       "                    const data = msg.data\n",
       "                    let browser = this.browserCache.get(browserID)\n",
       "                    try {\n",
       "                        switch (command) {\n",
       "\n",
       "                            case \"createBrowser\":\n",
       "                                const div = document.getElementById(browserID)  // <= created from python\n",
       "                                browser = await igv.createBrowser(div, data)\n",
       "                                this.browserCache.set(browserID, browser)\n",
       "                                break\n",
       "\n",
       "                            case \"loadTrack\":\n",
       "                                await browser.loadTrack(data)\n",
       "                                break\n",
       "\n",
       "                            case \"loadLocalTrack\":\n",
       "\n",
       "                                const file = new NotebookLocalFile({path: data.url})\n",
       "                                data.url = file\n",
       "                                data.indexed = false\n",
       "\n",
       "                                await browser.loadTrack(data)\n",
       "                                break\n",
       "\n",
       "                            case \"search\":\n",
       "                                browser.search(data)\n",
       "                                break\n",
       "\n",
       "                            case \"zoomIn\":\n",
       "                                browser.zoomIn()\n",
       "                                break\n",
       "\n",
       "                            case \"zoomOut\":\n",
       "                                browser.zoomOut()\n",
       "                                break\n",
       "\n",
       "                            case \"remove\":\n",
       "                                this.browserCache.delete(browserID)\n",
       "                                document.getElementById(browserID).parentNode.removeChild(div)\n",
       "                                break\n",
       "\n",
       "                            case \"toSVG\":\n",
       "                                return browser.toSVG()\n",
       "\n",
       "                            default:\n",
       "                                console.error(\"Unrecognized method: \" + msg.command)\n",
       "                        }\n",
       "                    } catch (e) {\n",
       "                        console.error(e)\n",
       "                    }\n",
       "                }\n",
       "                this.processing = false\n",
       "            }\n",
       "        }\n",
       "    }\n",
       "\n",
       "    class Queue {\n",
       "        constructor() {\n",
       "            this.elements = []\n",
       "        }\n",
       "\n",
       "        enqueue(e) {\n",
       "            this.elements.push(e)\n",
       "        }\n",
       "\n",
       "        dequeue() {\n",
       "            return this.elements.shift()\n",
       "        }\n",
       "\n",
       "        isEmpty() {\n",
       "            return this.elements.length == 0\n",
       "        }\n",
       "\n",
       "        peek() {\n",
       "            return !this.isEmpty() ? this.elements[0] : undefined\n",
       "        }\n",
       "\n",
       "        length() {\n",
       "            return this.elements.length\n",
       "        }\n",
       "    }\n",
       "\n",
       "    let counter = 0\n",
       "\n",
       "    function uniqueID() {\n",
       "        return `${Math.random()}-${counter++}`\n",
       "    }\n",
       "\n",
       "    console.log('registering comm')\n",
       "\n",
       "    const comm = Jupyter.notebook.kernel.comm_manager.new_comm('file_request', {})\n",
       "\n",
       "    const pendingRequests = new Map()\n",
       "\n",
       "// Register a handler\n",
       "    comm.on_msg(function (msg) {\n",
       "        console.log(msg)\n",
       "        const id = msg.content.data.id\n",
       "        const data = msg.content.data.data\n",
       "        pendingRequests.set(id, data)\n",
       "    })\n",
       "\n",
       "    /**\n",
       "     * Emuulates a browser \"File\"\n",
       "     */\n",
       "    class NotebookLocalFile {\n",
       "\n",
       "        constructor({path, name, start, end}) {\n",
       "            this.path = path\n",
       "            this.name = name || path\n",
       "            this.start = start\n",
       "            this.end = end\n",
       "        }\n",
       "\n",
       "        /**\n",
       "         * Returns a new Blob object containing the data in the specified range of bytes of the blob on which it's called.\n",
       "         * @param start An index into the Blob indicating the first byte to include in the new Blob\n",
       "         * @param end  An index into the Blob indicating the first byte that will *not* be included in the new Blob\n",
       "         * @param contentType\n",
       "         * @returns {*}\n",
       "         */\n",
       "        slice(start, end) {\n",
       "            return new NotebookLocalFile({path: this.path, name: this.name, start, end})\n",
       "        }\n",
       "\n",
       "        /**\n",
       "         * Returns a promise that resolves with an ArrayBuffer containing the entire contents of the Blob as binary data.\n",
       "         *\n",
       "         * @returns {Promise<*>}\n",
       "         */\n",
       "        async arrayBuffer() {\n",
       "\n",
       "            const id = uniqueID()\n",
       "            const promise = new Promise((resolve) => {\n",
       "                function poll() {\n",
       "                    if (pendingRequests.has(id)) {\n",
       "                        const data = pendingRequests.get(id)\n",
       "                        console.log(`data: ${data}`)\n",
       "                        const dataString = atob(data)\n",
       "                        const bytes = new Uint8Array(dataString.length)\n",
       "                        for (var i = 0; i < dataString.length; i++) {\n",
       "                            bytes[i] = dataString.charCodeAt(i)\n",
       "                        }\n",
       "                        resolve(bytes.buffer)\n",
       "                    } else {\n",
       "                        setTimeout(poll, 500)\n",
       "                    }\n",
       "                }\n",
       "\n",
       "                poll()\n",
       "            })\n",
       "\n",
       "            comm.send({id: id, 'path': this.path, 'method': 'arrayBuffer', 'start': this.start, 'end': this.end})\n",
       "\n",
       "            return promise\n",
       "        }\n",
       "\n",
       "        /**\n",
       "         * Returns a promise that resolves with a USVString containing the entire contents of the Blob interpreted as UTF-8 text.\n",
       "         *\n",
       "         * @returns {Promise<string>}\n",
       "         */\n",
       "        async text() {\n",
       "            throw Error(\"text not implemented\")\n",
       "        }\n",
       "\n",
       "        stream() {\n",
       "            throw Error(\"stream not implemented\")\n",
       "        }\n",
       "    }\n",
       "\n",
       "    window.IGVMessageHandler = new MessageHandler()\n",
       "\n",
       "    console.log(\"IGVMessageHandler installed\")\n",
       "\n",
       "})()"
      ],
      "text/plain": [
       "<IPython.core.display.Javascript object>"
      ]
     },
     "metadata": {},
     "output_type": "display_data"
    },
    {
     "data": {
      "application/javascript": [
       "console.log('registering comm')\n",
       "Jupyter.notebook.kernel.comm_manager.register_target('my_comm_target',\n",
       "\n",
       "    function(comm, msg) {\n",
       "        // comm is the frontend comm instance\n",
       "        // msg is the comm_open message, which can carry data\n",
       "\n",
       "        console.log(`open message: ${msg}`)\n",
       "\n",
       "        // Register handlers for later messages:\n",
       "        comm.on_msg(function(msg) {\n",
       "            console.log(msg)\n",
       "            comm.send({'foo': 0});\n",
       "        });\n",
       "        comm.on_close(function(msg) {\n",
       "            console.log('closing comm')\n",
       "        });\n",
       "\n",
       "    });"
      ],
      "text/plain": [
       "<IPython.core.display.Javascript object>"
      ]
     },
     "metadata": {},
     "output_type": "display_data"
    }
   ],
   "source": [
    "import igv_notebook\n",
    "\n",
    "igv_notebook.init()"
   ]
  },
  {
   "cell_type": "code",
   "execution_count": null,
   "metadata": {
    "pycharm": {
     "name": "#%%\n"
    }
   },
   "outputs": [],
   "source": []
  },
  {
   "cell_type": "code",
   "execution_count": null,
   "metadata": {
    "pycharm": {
     "name": "#%%\n"
    }
   },
   "outputs": [],
   "source": []
  },
  {
   "cell_type": "code",
   "execution_count": null,
   "metadata": {
    "pycharm": {
     "name": "#%%\n"
    }
   },
   "outputs": [],
   "source": []
  },
  {
   "cell_type": "code",
   "execution_count": null,
   "metadata": {
    "pycharm": {
     "name": "#%%\n"
    }
   },
   "outputs": [],
   "source": []
  },
  {
   "cell_type": "code",
   "execution_count": null,
   "metadata": {
    "pycharm": {
     "name": "#%%\n"
    }
   },
   "outputs": [],
   "source": []
  },
  {
   "cell_type": "code",
   "execution_count": null,
   "metadata": {
    "pycharm": {
     "name": "#%%\n"
    }
   },
   "outputs": [],
   "source": []
  },
  {
   "cell_type": "code",
   "execution_count": null,
   "metadata": {
    "pycharm": {
     "name": "#%%\n"
    }
   },
   "outputs": [],
   "source": []
  },
  {
   "cell_type": "code",
   "execution_count": null,
   "metadata": {
    "pycharm": {
     "name": "#%%\n"
    }
   },
   "outputs": [],
   "source": []
  },
  {
   "cell_type": "code",
   "execution_count": null,
   "metadata": {
    "pycharm": {
     "name": "#%%\n"
    }
   },
   "outputs": [],
   "source": []
  },
  {
   "cell_type": "code",
   "execution_count": null,
   "metadata": {
    "pycharm": {
     "name": "#%%\n"
    }
   },
   "outputs": [],
   "source": []
  },
  {
   "cell_type": "code",
   "execution_count": null,
   "metadata": {},
   "outputs": [],
   "source": []
  }
 ],
 "metadata": {
  "kernelspec": {
   "display_name": "Python 3 (ipykernel)",
   "language": "python",
   "name": "python3"
  },
  "language_info": {
   "codemirror_mode": {
    "name": "ipython",
    "version": 3
   },
   "file_extension": ".py",
   "mimetype": "text/x-python",
   "name": "python",
   "nbconvert_exporter": "python",
   "pygments_lexer": "ipython3",
   "version": "3.9.1"
  }
 },
 "nbformat": 4,
 "nbformat_minor": 2
}
