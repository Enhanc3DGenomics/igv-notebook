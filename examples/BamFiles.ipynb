{
 "cells": [
  {
   "cell_type": "markdown",
   "metadata": {
    "pycharm": {
     "name": "#%%\n"
    }
   },
   "source": [
    "* Install igv-notebook"
   ]
  },
  {
   "cell_type": "code",
   "execution_count": null,
   "metadata": {},
   "outputs": [],
   "source": [
    "pip install git+https://github.com/igvteam/igv-notebook.git"
   ]
  },
  {
   "cell_type": "markdown",
   "metadata": {
    "pycharm": {
     "name": "#%% md\n"
    }
   },
   "source": [
    "#### Load bam file by Absolute URL  (all platforms)"
   ]
  },
  {
   "cell_type": "code",
   "execution_count": null,
   "metadata": {
    "pycharm": {
     "name": "#%%\n"
    }
   },
   "outputs": [],
   "source": [
    "import igv_notebook\n",
    "\n",
    "igv_notebook.init()\n",
    "\n",
    "b = igv_notebook.Browser(\n",
    "    {\n",
    "        \"genome\": \"hg19\",\n",
    "        \"locus\": \"chr22:24,376,166-24,376,456\"\n",
    "    }\n",
    ")\n",
    "\n",
    "\n",
    "b.load_track(\n",
    "    {\n",
    "        \"name\": \"Local BAM\",\n",
    "        \"url\": \"http://localhost:8888/files/examples/data/gstt1_sample.bam\",\n",
    "        \"indexURL\": \"http://localhost:8888/files/examples/data/gstt1_sample.bam.bai\",\n",
    "        \"format\": \"bam\",\n",
    "        \"type\": \"alignment\"\n",
    "    })\n",
    "\n",
    "\n",
    "b.zoom_in()\n"
   ]
  },
  {
   "cell_type": "markdown",
   "metadata": {
    "pycharm": {
     "name": "#%%\n"
    }
   },
   "source": [
    "#### Load BAM file by relative URL  (Jupyter Notebook and Jupyter Lab)"
   ]
  },
  {
   "cell_type": "code",
   "execution_count": null,
   "metadata": {
    "pycharm": {
     "name": "#%%\n"
    }
   },
   "outputs": [],
   "source": [
    "import igv_notebook\n",
    "\n",
    "igv_notebook.init()\n",
    "\n",
    "b = igv_notebook.Browser(\n",
    "    {\n",
    "        \"genome\": \"hg19\",\n",
    "        \"locus\": \"chr22:24,376,166-24,376,456\"\n",
    "    }\n",
    ")\n",
    "\n",
    "\n",
    "b.load_track(\n",
    "    {\n",
    "        \"name\": \"Local BAM\",\n",
    "        \"url\": \"/files/examples/data/gstt1_sample.bam\",\n",
    "        \"indexURL\": \"/files/examples/data/gstt1_sample.bam.bai\",\n",
    "        \"format\": \"bam\",\n",
    "        \"type\": \"alignment\"\n",
    "    })\n",
    "\n",
    "\n",
    "b.zoom_in()"
   ]
  },
  {
   "cell_type": "markdown",
   "metadata": {
    "pycharm": {
     "name": "#%%\n"
    }
   },
   "source": [
    "#### Load files by path. (Jupyter Notebook and Colab)\n",
    "\n",
    "**Notes**\n",
    "    * Path properties do not work in Jupyter Lab, use URLs\n",
    "    * Relative path as shown below for Jupyter Notebook, for Colab notebooks use absolute path, for example /content/..."
   ]
  },
  {
   "cell_type": "code",
   "execution_count": null,
   "outputs": [],
   "source": [
    "import igv_notebook\n",
    "\n",
    "igv_notebook.init()\n",
    "\n",
    "b = igv_notebook.Browser(\n",
    "    {\n",
    "        \"genome\": \"hg19\",\n",
    "        \"locus\": \"chr22:24,376,166-24,376,456\"\n",
    "    }\n",
    ")\n",
    "\n",
    "\n",
    "b.load_track(\n",
    "    {\n",
    "        \"name\": \"Local BAM\",\n",
    "        \"path\": \"data/gstt1_sample.bam\",\n",
    "        \"indexPath\": \"data/gstt1_sample.bam.bai\",\n",
    "        \"format\": \"bam\",\n",
    "        \"type\": \"alignment\"\n",
    "    })\n",
    "\n",
    "\n",
    "b.zoom_in()"
   ],
   "metadata": {
    "collapsed": false,
    "pycharm": {
     "name": "#%%\n"
    }
   }
  },
  {
   "cell_type": "code",
   "execution_count": null,
   "outputs": [],
   "source": [],
   "metadata": {
    "collapsed": false,
    "pycharm": {
     "name": "#%%\n"
    }
   }
  },
  {
   "cell_type": "code",
   "execution_count": null,
   "metadata": {
    "pycharm": {
     "name": "#%%\n"
    }
   },
   "outputs": [],
   "source": [
    "import igv_notebook\n",
    "\n",
    "igv_notebook.init()\n",
    "\n",
    "b = igv_notebook.Browser(\n",
    "    {\n",
    "        \"genome\": \"hg19\",\n",
    "        \"locus\": \"chr22:24,376,166-24,376,456\"\n",
    "    }\n",
    ")\n",
    "\n",
    "\n",
    "b.load_track(\n",
    "    {\n",
    "        \"name\": \"Local BAM\",\n",
    "        \"path\": \"data/gstt1_sample.bam\",\n",
    "        \"indexPath\": \"data/gstt1_sample.bam.bai\",\n",
    "        \"format\": \"bam\",\n",
    "        \"type\": \"alignment\"\n",
    "    })\n",
    "\n",
    "\n",
    "b.zoom_in()"
   ]
  },
  {
   "cell_type": "markdown",
   "metadata": {
    "pycharm": {
     "name": "#%%\n"
    }
   },
   "source": []
  },
  {
   "cell_type": "code",
   "execution_count": null,
   "metadata": {
    "jupyter": {
     "outputs_hidden": false
    },
    "pycharm": {
     "name": "#%%\n"
    }
   },
   "outputs": [],
   "source": [
    "import igv_notebook\n",
    "\n",
    "igv_notebook.init()\n",
    "\n",
    "b = igv_notebook.Browser(\n",
    "    {\n",
    "        \"genome\": \"hg19\",\n",
    "        \"locus\": \"chr22:24,376,166-24,376,456\"\n",
    "    }\n",
    ")\n",
    "\n",
    "\n",
    "b.load_track(\n",
    "    {\n",
    "        \"name\": \"Local BAM\",\n",
    "        \"path\": \"data/gstt1_sample.bam\",\n",
    "        \"indexPath\": \"data/gstt1_sample.bam.bai\",\n",
    "        \"format\": \"bam\",\n",
    "        \"type\": \"alignment\"\n",
    "    })\n",
    "\n",
    "\n",
    "b.zoom_in()"
   ]
  },
  {
   "cell_type": "code",
   "execution_count": null,
   "metadata": {},
   "outputs": [],
   "source": []
  }
 ],
 "metadata": {
  "kernelspec": {
   "display_name": "Python 3 (ipykernel)",
   "language": "python",
   "name": "python3"
  },
  "language_info": {
   "codemirror_mode": {
    "name": "ipython",
    "version": 3
   },
   "file_extension": ".py",
   "mimetype": "text/x-python",
   "name": "python",
   "nbconvert_exporter": "python",
   "pygments_lexer": "ipython3",
   "version": "3.9.1"
  }
 },
 "nbformat": 4,
 "nbformat_minor": 4
}