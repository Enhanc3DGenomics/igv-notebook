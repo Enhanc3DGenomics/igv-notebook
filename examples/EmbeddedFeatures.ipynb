{
 "cells": [
  {
   "cell_type": "code",
   "execution_count": null,
   "metadata": {},
   "outputs": [],
   "source": [
    "pip install git+https://github.com/igvteam/igv-notebook.git"
   ]
  },
  {
   "cell_type": "code",
   "execution_count": null,
   "metadata": {
    "pycharm": {
     "name": "#%%\n"
    }
   },
   "outputs": [],
   "source": [
    "import igv_notebook\n",
    "\n",
    "igv_notebook.init()\n",
    "\n",
    "b = igv_notebook.Browser({\n",
    "    \"genome\": \"hg19\",\n",
    "    \"locus\": \"chr20:1,233,645-1,235,507\"\n",
    "})\n",
    "\n",
    "b.load_track({\n",
    "    \"name\": \"Copy number\",\n",
    "    \"type\": \"seg\",\n",
    "    \"displayMode\": \"EXPANDED\",\n",
    "    \"height\": 50,\n",
    "    \"isLog\": True,\n",
    "    \"features\": [\n",
    "        {\n",
    "            \"chr\": \"chr20\",\n",
    "            \"start\": 1233820,\n",
    "            \"end\": 1235000,\n",
    "            \"value\": 0.8239,\n",
    "            \"sample\": \"TCGA-OR-A5J2-01\"\n",
    "        },\n",
    "        {\n",
    "            \"chr\": \"chr20\",\n",
    "            \"start\": 1234500,\n",
    "            \"end\": 1235180,\n",
    "            \"value\": -0.8391,\n",
    "            \"sample\": \"TCGA-OR-A5J3-01\"\n",
    "        }\n",
    "    ]\n",
    "})\n",
    "\n",
    "b.load_track({\n",
    "    \"name\": \"Annotations\",\n",
    "    \"type\": \"annotation\",\n",
    "    \"displayMode\": \"EXPANDED\",\n",
    "    \"features\": [\n",
    "        {\n",
    "            \"chr\": \"chr20\",\n",
    "            \"start\": 1233820,\n",
    "            \"end\": 1234000,\n",
    "            \"name\": 'Feature 1',\n",
    "            \"color\": 'rgb(100,100,0)'\n",
    "        },\n",
    "        {\n",
    "            \"chr\": \"chr20\",\n",
    "            \"start\": 1234500,\n",
    "            \"end\": 1235180,\n",
    "            \"name\": 'Feature 2',\n",
    "            \"color\": \"red\"\n",
    "        }\n",
    "    ]\n",
    "})\n"
   ]
  },
  {
   "cell_type": "code",
   "execution_count": null,
   "metadata": {},
   "outputs": [],
   "source": []
  }
 ],
 "metadata": {
  "kernelspec": {
   "display_name": "Python 3 (ipykernel)",
   "language": "python",
   "name": "python3"
  },
  "language_info": {
   "codemirror_mode": {
    "name": "ipython",
    "version": 3
   },
   "file_extension": ".py",
   "mimetype": "text/x-python",
   "name": "python",
   "nbconvert_exporter": "python",
   "pygments_lexer": "ipython3",
   "version": "3.9.1"
  }
 },
 "nbformat": 4,
 "nbformat_minor": 2
}
